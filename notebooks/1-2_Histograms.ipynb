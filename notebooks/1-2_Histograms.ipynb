{
 "cells": [
  {
   "cell_type": "markdown",
   "metadata": {},
   "source": [
    "## Introduction to Histograms"
   ]
  },
  {
   "cell_type": "code",
   "execution_count": null,
   "metadata": {},
   "outputs": [],
   "source": [
    "import numpy as np\n",
    "import matplotlib.mlab as mlab\n",
    "import matplotlib.pyplot as plt\n",
    "import pandas as pd\n",
    "import seaborn as sns\n",
    "\n",
    "sns.set(style=\"ticks\", color_codes=True)\n",
    "\n",
    "%matplotlib inline\n",
    "%config InlineBackend.figure_format = 'retina'"
   ]
  },
  {
   "cell_type": "markdown",
   "metadata": {},
   "source": [
    "Let's get a quick intro to what a Histogram is:\n",
    "\n",
    "http://en.wikipedia.org/wiki/Histogram\n",
    "\n",
    "Key Points:\n",
    "* Bins are used to create bars. Bins are all equal width.\n",
    "* Height of bars represent frequency or proportion of values in each bin.\n",
    "* Bars touch because data is __continuous__ and each bar begins where the previous bin ends.\n",
    "* Generally, each bin is __inclusive__ on the left and __exclusive__ on the right.\n",
    "* Changing the number of bins can have a big impact on how the data appears. Experiment with different numbers of bins to find a display that communicates the data as clearly and accurately as possible. "
   ]
  },
  {
   "cell_type": "markdown",
   "metadata": {},
   "source": [
    "We'll start by creating a random sample of 10,000 values from a Normal distribution, and just drawing the default Histogram."
   ]
  },
  {
   "cell_type": "code",
   "execution_count": null,
   "metadata": {},
   "outputs": [],
   "source": [
    "dataset1 = np.random.randn(10000)\n",
    "\n",
    "# Plot a histogram of the dataset, note bins=10 by default\n",
    "plt.hist(dataset1)\n",
    "plt.show()"
   ]
  },
  {
   "cell_type": "markdown",
   "metadata": {},
   "source": [
    "Describe this histogram. What is the x-axis and what is the y-axis?"
   ]
  },
  {
   "cell_type": "markdown",
   "metadata": {},
   "source": [
    "Let's create another data set by sampling from a Normal distribution, but this time let's only take 20 values instead of 10,000."
   ]
  },
  {
   "cell_type": "code",
   "execution_count": null,
   "metadata": {},
   "outputs": [],
   "source": [
    "dataset2 = np.random.randn(20)\n",
    "\n",
    "# Let's change the color for \"fun\"\n",
    "plt.hist(dataset2, color='darkorchid')\n",
    "plt.show()"
   ]
  },
  {
   "cell_type": "markdown",
   "metadata": {},
   "source": [
    "Compare this histogram to the first one. Besides having a much more \"fun\" color, how is it different?"
   ]
  },
  {
   "cell_type": "markdown",
   "metadata": {},
   "source": [
    "OK, now let's compare our 2 datasets. Since we are going to have 2 colors on one plot, let's make it viewable by colorblind people by setting the default color palette. This is a Seaborn function, but MatPlotLib will use it also once it's set."
   ]
  },
  {
   "cell_type": "code",
   "execution_count": null,
   "metadata": {},
   "outputs": [],
   "source": [
    "sns.set_palette(\"colorblind\")"
   ]
  },
  {
   "cell_type": "markdown",
   "metadata": {},
   "source": [
    "One has 10,000 values and one has 20. It wouldn't be reasonable to compare them on the same scale, so let's __normalize__ them. Instead of the y-axis being __frequency__, it will now be __proportion__."
   ]
  },
  {
   "cell_type": "code",
   "execution_count": null,
   "metadata": {},
   "outputs": [],
   "source": [
    "# Set density=True for the plots to be normalized\n",
    "# Set alpha=0.75 for transparency\n",
    "plt.hist(dataset1, density=True, alpha=0.75)\n",
    "plt.hist(dataset2, density=True, alpha=0.75)\n",
    "\n",
    "# Since we are changing the y-axis, let's add some labels\n",
    "plt.xlabel('Value')\n",
    "plt.ylabel('Probability')\n",
    "plt.title('Histogram of Different Sized Samples')\n",
    "plt.text(-3, 0.35, r'$\\mu=100,\\ \\sigma=15$')\n",
    "plt.show()"
   ]
  },
  {
   "cell_type": "markdown",
   "metadata": {},
   "source": [
    "Compare these 2 samples. What is similar, what is different? Is it possible they came from the same distribution?"
   ]
  },
  {
   "cell_type": "markdown",
   "metadata": {},
   "source": [
    "If we want the bins to line up also, we can calculate them from all the data together in one stack, and then pass them to the .hist() functions."
   ]
  },
  {
   "cell_type": "code",
   "execution_count": null,
   "metadata": {},
   "outputs": [],
   "source": [
    "# TODO: Look up how to make the same plot as above, but make both distributions\n",
    "# have the same bins (the bars should line up)."
   ]
  },
  {
   "cell_type": "markdown",
   "metadata": {},
   "source": [
    "Now how do the samples compare?"
   ]
  },
  {
   "cell_type": "code",
   "execution_count": null,
   "metadata": {},
   "outputs": [],
   "source": []
  }
 ],
 "metadata": {
  "kernelspec": {
   "display_name": "xbus",
   "language": "python",
   "name": "xbus"
  },
  "language_info": {
   "codemirror_mode": {
    "name": "ipython",
    "version": 3
   },
   "file_extension": ".py",
   "mimetype": "text/x-python",
   "name": "python",
   "nbconvert_exporter": "python",
   "pygments_lexer": "ipython3",
   "version": "3.6.1"
  }
 },
 "nbformat": 4,
 "nbformat_minor": 2
}
