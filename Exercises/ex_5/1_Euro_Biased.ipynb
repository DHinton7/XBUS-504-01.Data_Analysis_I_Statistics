{
 "cells": [
  {
   "cell_type": "markdown",
   "metadata": {},
   "source": [
    "## The Euro problem"
   ]
  },
  {
   "cell_type": "markdown",
   "metadata": {},
   "source": [
    "Adapted from \"Teaching statistical inference with resampling,\" Copyright 2018 Allen Downey\n",
    "License: http://creativecommons.org/licenses/by/4.0/"
   ]
  },
  {
   "cell_type": "markdown",
   "metadata": {},
   "source": [
    "In *Information Theory, Inference, and Learning Algorithms*, David MacKay writes, \"A statistical statement appeared in *The Guardian* on Friday January 4, 2002:\n",
    "\n",
    "*When spun on edge 250 times, a Belgian one-euro coin came\n",
    "up heads 140 times and tails 110. ‘It looks very suspicious\n",
    "to me’, said Barry Blight, a statistics lecturer at the London\n",
    "School of Economics. ‘If the coin were unbiased the chance of\n",
    "getting a result as extreme as that would be less than 7%’.*\n",
    "\n",
    "But do these data give evidence that the coin is biased rather than fair?\""
   ]
  },
  {
   "cell_type": "code",
   "execution_count": null,
   "metadata": {},
   "outputs": [],
   "source": [
    "# Configure Jupyter so figures appear in the notebook\n",
    "%matplotlib inline\n",
    "\n",
    "# Configure Jupyter to display the assigned value after an assignment\n",
    "%config InteractiveShell.ast_node_interactivity='last_expr_or_assign'\n",
    "\n",
    "import numpy as np\n",
    "import matplotlib.pyplot as plt\n",
    "\n",
    "np.random.seed(4)"
   ]
  },
  {
   "cell_type": "markdown",
   "metadata": {},
   "source": [
    "Let's unpack what Dr. Blight said:\n",
    "\n",
    "\"If the coin were unbiased the chance of getting a result as extreme as that would be less than 7%\".\n",
    "\n",
    "To see where that comes from, let's simulate the result of spinning an \"unbiased\" coin, meaning that the chance of heads is 50%.\n",
    "\n",
    "Here's an example with 10 spins:"
   ]
  },
  {
   "cell_type": "code",
   "execution_count": null,
   "metadata": {},
   "outputs": [],
   "source": [
    "spins = np.random.random(10) < 0.5"
   ]
  },
  {
   "cell_type": "markdown",
   "metadata": {},
   "source": [
    "`np.random.random` returns numbers between 0 and 1, uniformly distributed.  So the probability of being less than 0.5 is 50%.  \n",
    "\n",
    "The sum of the array is the number of `True` elements, that is, the number of heads:"
   ]
  },
  {
   "cell_type": "code",
   "execution_count": null,
   "metadata": {},
   "outputs": [],
   "source": [
    "np.sum(spins)"
   ]
  },
  {
   "cell_type": "markdown",
   "metadata": {},
   "source": [
    "Write a function that simulates `n` spins with probability `p`, and returns the number of heads"
   ]
  },
  {
   "cell_type": "code",
   "execution_count": null,
   "metadata": {},
   "outputs": [],
   "source": [
    "def spin(n, p):\n",
    "    return 0"
   ]
  },
  {
   "cell_type": "markdown",
   "metadata": {},
   "source": [
    "Here's an example with the actual sample size (250) and hypothetical probability (50%)."
   ]
  },
  {
   "cell_type": "code",
   "execution_count": null,
   "metadata": {},
   "outputs": [],
   "source": [
    "heads, tails = 140, 110\n",
    "sample_size = heads + tails"
   ]
  },
  {
   "cell_type": "code",
   "execution_count": null,
   "metadata": {},
   "outputs": [],
   "source": [
    "hypo_prob = 0.5\n",
    "spin(sample_size, hypo_prob)"
   ]
  },
  {
   "cell_type": "markdown",
   "metadata": {},
   "source": [
    "Each time we run this simulated experiment, we get a different outcome.\n",
    "\n",
    "Here's a function that runs the experiment (250 spins) many times, and collects the outcomes (number of heads) in an array."
   ]
  },
  {
   "cell_type": "code",
   "execution_count": null,
   "metadata": {},
   "outputs": [],
   "source": [
    "def run_experiments(n, p, iters):\n",
    "    t = [spin(n, p) for i in range(iters)]\n",
    "    return np.array(t)"
   ]
  },
  {
   "cell_type": "code",
   "execution_count": null,
   "metadata": {},
   "outputs": [],
   "source": [
    "outcomes = run_experiments(sample_size, hypo_prob, 10000);"
   ]
  },
  {
   "cell_type": "markdown",
   "metadata": {},
   "source": [
    "The result is an array of 10000 integers, each representing the number of heads in a simulated experiment."
   ]
  },
  {
   "cell_type": "markdown",
   "metadata": {},
   "source": [
    "What is the mean of `outcomes` ?"
   ]
  },
  {
   "cell_type": "code",
   "execution_count": null,
   "metadata": {},
   "outputs": [],
   "source": [
    "np.mean(outcomes)"
   ]
  },
  {
   "cell_type": "markdown",
   "metadata": {},
   "source": [
    "On average, the expected number of heads is the product of the hypothetical probability and the sample size:"
   ]
  },
  {
   "cell_type": "code",
   "execution_count": null,
   "metadata": {},
   "outputs": [],
   "source": [
    "expected = hypo_prob * sample_size"
   ]
  },
  {
   "cell_type": "markdown",
   "metadata": {},
   "source": [
    "How much do the values in `outcomes` differ from the expected value?"
   ]
  },
  {
   "cell_type": "code",
   "execution_count": null,
   "metadata": {},
   "outputs": [],
   "source": [
    "diffs = ..."
   ]
  },
  {
   "cell_type": "markdown",
   "metadata": {},
   "source": [
    "The following function plots a histogram of a sequence of values:"
   ]
  },
  {
   "cell_type": "code",
   "execution_count": null,
   "metadata": {},
   "outputs": [],
   "source": [
    "def plot_hist(values, low=None, high=None):\n",
    "    options = dict(alpha=0.5, color='C0')\n",
    "    xs, ys, patches = plt.hist(values,\n",
    "                               normed=True,\n",
    "                               histtype='step', \n",
    "                               linewidth=3,\n",
    "                               **options)\n",
    "    \n",
    "    \n",
    "    plt.ylabel('Density')\n",
    "    plt.tight_layout()\n",
    "    return patches[0]"
   ]
  },
  {
   "cell_type": "markdown",
   "metadata": {},
   "source": [
    "Here's what the deviations from the expected value look like:"
   ]
  },
  {
   "cell_type": "code",
   "execution_count": null,
   "metadata": {},
   "outputs": [],
   "source": [
    "plot_hist(diffs)\n",
    "\n",
    "plt.title('Sampling distribution (n=250)')\n",
    "plt.xlabel('Deviation from expected number of heads');"
   ]
  },
  {
   "cell_type": "markdown",
   "metadata": {},
   "source": [
    "This is the \"sampling distribution\" of deviations.  It shows how much variation we should expect between experiments with this sample size (n = 250)."
   ]
  },
  {
   "cell_type": "markdown",
   "metadata": {},
   "source": [
    "## P-values\n",
    "\n",
    "Getting get back to this line:\n",
    "\n",
    "\"If the coin were unbiased the chance of getting a result as extreme as that would be less than 7%\".\n",
    "\n",
    "Let's count how many times, in 10000 attempts, the outcome is \"as extreme as\" the observed outcome, 140 heads.\n",
    "\n",
    "The observed deviation is the difference between the observed and expected number of heads:"
   ]
  },
  {
   "cell_type": "code",
   "execution_count": null,
   "metadata": {},
   "outputs": [],
   "source": [
    "observed_diff = heads - expected"
   ]
  },
  {
   "cell_type": "markdown",
   "metadata": {},
   "source": [
    "How many times did the simulated `diffs` exceed the observed deviation?"
   ]
  },
  {
   "cell_type": "code",
   "execution_count": null,
   "metadata": {},
   "outputs": [],
   "source": []
  },
  {
   "cell_type": "markdown",
   "metadata": {},
   "source": [
    "Dr. Blight said 7%. Where did that come from?\n",
    "\n",
    "We only counted the cases where the outcome is *more* heads than expected.  What about the cases where the outcome is *fewer* than expected?"
   ]
  },
  {
   "cell_type": "markdown",
   "metadata": {},
   "source": [
    "How many times did the simulated `diffs` fall below the observed deviation?"
   ]
  },
  {
   "cell_type": "code",
   "execution_count": null,
   "metadata": {},
   "outputs": [],
   "source": []
  },
  {
   "cell_type": "markdown",
   "metadata": {},
   "source": [
    "To get the total probability of a result \"as extreme as that\", we can use the absolute value of the simulated differences:"
   ]
  },
  {
   "cell_type": "code",
   "execution_count": null,
   "metadata": {},
   "outputs": [],
   "source": []
  },
  {
   "cell_type": "markdown",
   "metadata": {},
   "source": [
    "Is that consistent with what Dr. Blight reported?"
   ]
  },
  {
   "cell_type": "markdown",
   "metadata": {},
   "source": [
    "The next function fills in the histogram between `low` and `high`"
   ]
  },
  {
   "cell_type": "code",
   "execution_count": null,
   "metadata": {},
   "outputs": [],
   "source": [
    "def fill_hist(low, high, patch):\n",
    "    options = dict(alpha=0.5, color='C0')\n",
    "    fill = plt.axvspan(low, high, \n",
    "                       clip_path=patch,\n",
    "                       **options)"
   ]
  },
  {
   "cell_type": "markdown",
   "metadata": {},
   "source": [
    "Make a plot that shows the sampling distribution of `diffs` with two regions shaded.  These regions represent the chance that an unbiased coin yields a deviation from the expected as extreme as 15."
   ]
  },
  {
   "cell_type": "code",
   "execution_count": null,
   "metadata": {},
   "outputs": [],
   "source": [
    "patch = plot_hist(diffs)\n",
    "\n",
    "low = ...\n",
    "high = ...\n",
    "fill_hist(low, high, patch)\n",
    "\n",
    "low = ...\n",
    "high = ...\n",
    "fill_hist(low, high, patch)\n",
    "\n",
    "plt.title('Sampling distribution (n=250)')\n",
    "plt.xlabel('Deviation from expected number of heads');"
   ]
  },
  {
   "cell_type": "markdown",
   "metadata": {},
   "source": [
    "What's your conclusion? Why?"
   ]
  },
  {
   "cell_type": "code",
   "execution_count": null,
   "metadata": {},
   "outputs": [],
   "source": []
  }
 ],
 "metadata": {
  "kernelspec": {
   "display_name": "Python 3",
   "language": "python",
   "name": "python3"
  },
  "language_info": {
   "codemirror_mode": {
    "name": "ipython",
    "version": 3
   },
   "file_extension": ".py",
   "mimetype": "text/x-python",
   "name": "python",
   "nbconvert_exporter": "python",
   "pygments_lexer": "ipython3",
   "version": "3.6.5"
  }
 },
 "nbformat": 4,
 "nbformat_minor": 2
}
