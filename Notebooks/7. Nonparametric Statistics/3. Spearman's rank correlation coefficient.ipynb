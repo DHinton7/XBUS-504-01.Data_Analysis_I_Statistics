{
 "cells": [
  {
   "cell_type": "markdown",
   "metadata": {},
   "source": [
    "# Nonparametric Statistics: Spearman's rank correlation coefficient\n",
    "\n",
    "The Spearman correlation coefficient $r_s$ is defined as the Pearson correlation coefficient between the ranked variables $\\operatorname{rg}_X,\\operatorname{rg}_Y$\n",
    "\n",
    "$r_s = \\rho_{\\operatorname{rg}_X,\\operatorname{rg}_Y} = \\frac {\\operatorname{cov}(\\operatorname{rg}_X,\\operatorname{rg}_Y)} { \\sigma_{\\operatorname{rg}_X} \\sigma_{\\operatorname{rg}_Y} }$\n",
    "\n",
    "where\n",
    "* $\\rho$ denotes the usual Pearson correlation coefficient, but applied to the rank variables.\n",
    "* $\\operatorname{cov}(\\operatorname{rg}_X, \\operatorname{rg}_Y)$ is the covariance of the rank variables.\n",
    "* $\\sigma_{\\operatorname{rg}_X}$ and $\\sigma_{\\operatorname{rg}_Y}$ are the standard deviations of the rank variables.\n",
    "\n",
    "This can be computed with SciPy stats with \n",
    "\n",
    "`scipy.stats.spearmanr(X, Y)`  \n",
    "https://docs.scipy.org/doc/scipy/reference/generated/scipy.stats.spearmanr.html"
   ]
  },
  {
   "cell_type": "markdown",
   "metadata": {},
   "source": [
    "## Assumptions\n",
    "\n",
    "* Both variables should be independent, identically distributed.\n",
    "* One variable is monotonically related to the other variable.\n",
    "* Data is at least ordinal.\n",
    "\n",
    "<img src=\"images/spearman-1.png\">"
   ]
  },
  {
   "cell_type": "markdown",
   "metadata": {},
   "source": [
    "## Method\n",
    "\n",
    "If all $n$ ranks are distinct, it can be computed using the formula\n",
    "\n",
    "$ r_s = {1- \\frac {6 \\sum d_i^2}{n(n^2 - 1)}}.$\n",
    "\n",
    "$\\sigma_{\\operatorname{rg}_X} \\sigma_{\\operatorname{rg}_Y} = \\operatorname{Var}{\\operatorname{rg}_X} = \\operatorname{Var}{\\operatorname{rg}_Y} = n(n^2 - 1)/6$\n",
    "\n",
    "where $d_i = \\operatorname{rg}(X_i) - \\operatorname{rg}(Y_i)$, is the difference between the two ranks of each observation, and $n$ is the number of observations.\n",
    "\n",
    "The standard error of the coefficient is\n",
    "\n",
    "$ \\sigma_{r_s} = \\frac{ 0.6325 }{ \\sqrt{n-1} } $\n",
    "\n",
    "A perfect Spearman correlation ($r_s = 1$ or $-1$) is when $X$ and $Y$ are related by any monotonic function, instead of merely a linear function.\n",
    "\n",
    "The Spearman correlation is nonparametric because its sampling distribution can be obtained without requiring knowledge of the joint probability distribution of $X$ and $Y$."
   ]
  },
  {
   "cell_type": "markdown",
   "metadata": {},
   "source": [
    "## Significance testing\n",
    "\n",
    "The statistic $t = r_s \\sqrt{\\frac{n-2}{1-r_s^2}}$ is distributed approximately as Student's $t$ distribution with $n-2$ degrees of freedom under the null hypothesis."
   ]
  },
  {
   "cell_type": "markdown",
   "metadata": {},
   "source": [
    "## Example\n",
    "\n",
    "Calculate the correlation between the IQ of a person with the number of hours spent in front of TV per week.\n",
    "\n",
    "\n",
    "| IQ  | Hours of TV/week |\n",
    "|----:|-----------------:|\n",
    "| 106 | 7                |\n",
    "|  86 | 0                |\n",
    "| 100 | 27               |\n",
    "| 101 | 50               |\n",
    "|  99 | 28               |\n",
    "| 103 | 29               |\n",
    "|  97 | 20               |\n",
    "| 113 | 12               |\n",
    "| 112 | 6                |\n",
    "| 110 | 17               |"
   ]
  },
  {
   "cell_type": "code",
   "execution_count": 12,
   "metadata": {},
   "outputs": [],
   "source": [
    "import scipy.stats\n",
    "import numpy as np\n",
    "\n",
    "X = [106,  100, 99, 103, 97, 113, 112, 110]\n",
    "Y = [7,  27, 28, 29, 20, 12, 6, 17]"
   ]
  },
  {
   "cell_type": "code",
   "execution_count": 13,
   "metadata": {},
   "outputs": [
    {
     "data": {
      "image/png": "[encoded data removed]",
      "text/plain": [
       "<matplotlib.figure.Figure at 0x11c5cdd30>"
      ]
     },
     "metadata": {},
     "output_type": "display_data"
    },
    {
     "name": "stdout",
     "output_type": "stream",
     "text": [
      "corr_coeff =  -0.721194574405\n"
     ]
    }
   ],
   "source": [
    "import matplotlib.pyplot as plt\n",
    "\n",
    "plt.plot(X,Y,'.', markersize=20, c=(1,0.65,0))\n",
    "plt.xlabel('IQ')\n",
    "plt.ylabel('Hours TV Watched')\n",
    "\n",
    "fit = np.polyfit(X, Y, deg=1)\n",
    "plt.plot(X, fit[0] * np.array(X) + fit[1], color='blue')\n",
    "\n",
    "corr_coeff = np.corrcoef(X,Y)[0,1]\n",
    "\n",
    "plt.show()\n",
    "\n",
    "print('corr_coeff = ', corr_coeff)"
   ]
  },
  {
   "cell_type": "code",
   "execution_count": 8,
   "metadata": {},
   "outputs": [
    {
     "name": "stdout",
     "output_type": "stream",
     "text": [
      "    rho =  -0.175757575758\n",
      "p-value =  0.627188344776\n"
     ]
    }
   ],
   "source": [
    "# Option 1: SciPy stats\n",
    "result = scipy.stats.spearmanr(X, Y)\n",
    "print('    rho = ', result.correlation)\n",
    "print('p-value = ', result.pvalue)"
   ]
  },
  {
   "cell_type": "code",
   "execution_count": 9,
   "metadata": {},
   "outputs": [
    {
     "name": "stdout",
     "output_type": "stream",
     "text": [
      "ranks(X) =  [  7.   1.   4.   5.   3.   6.   2.  10.   9.   8.]\n",
      "ranks(Y) =  [  3.   1.   7.  10.   8.   9.   6.   4.   2.   5.]\n",
      "       d =  [ 4.  0. -3. -5. -5. -3. -4.  6.  7.  3.]\n",
      "     rho =  -0.175757575758\n",
      "t statistic, 8 d.o.f. =  -0.504978249176\n",
      "              p-value =  0.627188344776\n"
     ]
    }
   ],
   "source": [
    "# Option 2: By hand...\n",
    "n = len(X)\n",
    "\n",
    "# Sort the data by the first column ($X_i$), assign it the ranked values $1,2,3,\\dots n$.\n",
    "rX = scipy.stats.rankdata(X)\n",
    "\n",
    "# Sort the data by the second column ($Y_i$), and assign it the ranked values $1,2,3,\\dots n$.\n",
    "rY = scipy.stats.rankdata(Y)\n",
    "\n",
    "# Form the differences $d_i$ between the two rank columns.\n",
    "d = np.array(rX - rY)\n",
    "d_squared = np.dot(d , d)\n",
    "rho = 1 - 6*d_squared / (n*(n**2-1))\n",
    "\n",
    "print('ranks(X) = ', rX)\n",
    "print('ranks(Y) = ', rY)\n",
    "print('       d = ', rX - rY)\n",
    "print('     rho = ', rho)\n",
    "\n",
    "# Sigificance testing...\n",
    "df = n - 2\n",
    "t = rho * np.sqrt( (n-2)/(1-rho**2) )\n",
    "\n",
    "# Two-tailed probability that we see a value this large or larger (symmetric)\n",
    "p = 2 * (1 - scipy.stats.t.cdf(np.abs(t), n-2))\n",
    "\n",
    "print('t statistic, 8 d.o.f. = ', t)\n",
    "print('              p-value = ', p)"
   ]
  },
  {
   "cell_type": "markdown",
   "metadata": {},
   "source": [
    "The correlation between IQ and hours spent watching TV, -0.175, is very low, although negative.\n",
    "\n",
    "The p-value is 0.627188, so there is not much evidence of a statistically significant relationship between IQ and hour watching TV (Phew)."
   ]
  }
 ],
 "metadata": {
  "kernelspec": {
   "display_name": "Python 3",
   "language": "python",
   "name": "python3"
  },
  "language_info": {
   "codemirror_mode": {
    "name": "ipython",
    "version": 3
   },
   "file_extension": ".py",
   "mimetype": "text/x-python",
   "name": "python",
   "nbconvert_exporter": "python",
   "pygments_lexer": "ipython3",
   "version": "3.6.5"
  }
 },
 "nbformat": 4,
 "nbformat_minor": 2
}
