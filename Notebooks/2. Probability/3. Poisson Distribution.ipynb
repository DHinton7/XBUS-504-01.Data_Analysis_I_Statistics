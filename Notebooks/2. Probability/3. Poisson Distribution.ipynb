{
 "cells": [
  {
   "cell_type": "markdown",
   "metadata": {},
   "source": [
    "The **Poisson** distribution can be used to calculate the probabilities of the number of events occurring in a given period of time or a region of space, based soley on the mean number of events we expect to occur.\n",
    "\n",
    "Formal Definition: A discrete random variable $X$ has a Poisson distribution with parameter $\\lambda$ if for $k = 0,1,2,\\dots$ the probability mass function of $X$ is given by:\n",
    "$$\n",
    "    P(X = k ~|~ ~\\lambda~)~ = ~e^{-\\lambda}~~\\frac{\\lambda^k}{k!}\n",
    "$$\n",
    "\n",
    "Where\n",
    "* $e$ is base of natural logarithms  \n",
    "* $\\lambda$, our only parameter, is the mean $\\mu$ AND standard deviation $\\sigma$\n",
    "* $k$ is the number of events  \n",
    "\n",
    "\n",
    "\n",
    "The Poisson Distribution has the following characteristics:\n",
    "\n",
    "1. Discrete outcomes ($k = 0,1,2,3\\dots$) ranging from zero to infinity \n",
    "2. Each event is independent of the other events.\n",
    "3. The rate at which events occur is constant.\n",
    "4. The mean of the Poisson distribution is $\\mu$. The standard deviation is also equal to $\\mu$.\n",
    "\n",
    "Poisson distributions are good for modeling:\n",
    "* Number of deaths by horse kicking in the Prussian army (first application).\n",
    "* Number of typing errors on a page.\n",
    "* Number of failures of a machine in one month.\n",
    "* Hairs found in McDonald's hamburgers.\n",
    "* Number of car accidents in a one .\n",
    "* The number of patients arriving in an emergency room between 10 and 11 pm."
   ]
  },
  {
   "cell_type": "code",
   "execution_count": 3,
   "metadata": {},
   "outputs": [
    {
     "data": {
      "image/png": "[encoded data removed]",
      "text/plain": [
       "<matplotlib.figure.Figure at 0x112bd37f0>"
      ]
     },
     "metadata": {},
     "output_type": "display_data"
    }
   ],
   "source": [
    "import numpy as np\n",
    "import scipy.stats\n",
    "import matplotlib.pyplot as plt\n",
    "\n",
    "λ = 2\n",
    "k = np.arange(20)\n",
    "pmf_poisson = scipy.stats.poisson.pmf(k, λ)\n",
    "\n",
    "#Simply call a barplot\n",
    "plt.bar(np.linspace(0,19,20), pmf_poisson)\n",
    "plt.show()"
   ]
  },
  {
   "cell_type": "code",
   "execution_count": 4,
   "metadata": {},
   "outputs": [
    {
     "data": {
      "text/plain": [
       "array([  1.35335283e-01,   2.70670566e-01,   2.70670566e-01,\n",
       "         1.80447044e-01,   9.02235222e-02,   3.60894089e-02,\n",
       "         1.20298030e-02,   3.43708656e-03,   8.59271640e-04,\n",
       "         1.90949253e-04,   3.81898506e-05,   6.94360921e-06,\n",
       "         1.15726820e-06,   1.78041262e-07,   2.54344660e-08,\n",
       "         3.39126213e-09,   4.23907766e-10,   4.98715019e-11,\n",
       "         5.54127799e-12,   5.83292420e-13])"
      ]
     },
     "execution_count": 4,
     "metadata": {},
     "output_type": "execute_result"
    }
   ],
   "source": [
    "pmf_poisson"
   ]
  },
  {
   "cell_type": "code",
   "execution_count": 5,
   "metadata": {},
   "outputs": [
    {
     "data": {
      "application/vnd.jupyter.widget-view+json": {
       "model_id": "f93ad94a6e964c199f555ec1edd7cf5c",
       "version_major": 2,
       "version_minor": 0
      },
      "text/plain": [
       "interactive(children=(FloatSlider(value=7.0, description='λ', max=15.0, step=0.2), Output()), _dom_classes=('w…"
      ]
     },
     "metadata": {},
     "output_type": "display_data"
    }
   ],
   "source": [
    "from ipywidgets import interactive\n",
    "\n",
    "def f(λ):\n",
    "    prob = []\n",
    "    k = np.arange(30)\n",
    "    pmf_pois = scipy.stats.poisson.pmf(k, λ)\n",
    "\n",
    "    plt.figure(2)\n",
    "    plt.bar(k, pmf_pois)\n",
    "\n",
    "    plt.xlim(-0.5, np.max(k))\n",
    "    plt.ylim(0, 0.4)\n",
    "    plt.show()\n",
    "\n",
    "interactive_plot = interactive(f, λ=(0, 15, 0.2))\n",
    "output = interactive_plot.children[-1]\n",
    "interactive_plot"
   ]
  },
  {
   "cell_type": "markdown",
   "metadata": {},
   "source": [
    "**Question**: Suppose an office receives an average number of 8 calls on a weekday.\n",
    "\n",
    "* What is probability that on a given weekday there will be exactly 11 calls?\n",
    "\n",
    "* What is probability that on a given weekday there will be no calls?\n",
    "\n",
    "* What is probability that on a given weekday there will be at least five calls?\n",
    "\n",
    "Notes:\n",
    "* Dealing with counts of an infrequent event.\n",
    "* Reasonable to assume that the rate of calls are constant, and each call is independent of each other.\n",
    "\n",
    "Decent idea to use a Poisson distribution."
   ]
  },
  {
   "cell_type": "code",
   "execution_count": 3,
   "metadata": {},
   "outputs": [
    {
     "name": "stdout",
     "output_type": "stream",
     "text": [
      "P(11 calls received) = 7.21902064%.\n",
      "P(No calls received) = 0.03354626%.\n",
      "P(At least five calls received) = 90.03675974%.\n"
     ]
    }
   ],
   "source": [
    "import numpy as np\n",
    "import scipy.stats\n",
    "\n",
    "k = np.arange(15)\n",
    "pmf_poisson = scipy.stats.poisson.pmf(k, λ)\n",
    "\n",
    "# Exactly 11 calls? P(X = 11 | λ = 8)\n",
    "λ = 8\n",
    "prob_11_calls = scipy.stats.poisson.pmf(11, λ)\n",
    "print( 'P(11 calls received) = %2.8f%%.' % (prob_11_calls*100) )\n",
    "\n",
    "# No calls? P(X = 0 | λ = 8)\n",
    "prob_no_calls = scipy.stats.poisson.pmf(0, λ)\n",
    "print( 'P(No calls received) = %2.8f%%.' % (prob_no_calls*100) )\n",
    "\n",
    "# At least five calls?\n",
    "# P(X >= 5|λ=8) = P(X=5|λ)+P(X=6|λ)+ ... \n",
    "k = np.arange(5, 30)\n",
    "prob_at_least_five = np.sum( scipy.stats.poisson.pmf(k, λ) )\n",
    "print( 'P(At least five calls received) = %2.8f%%.' % (prob_at_least_five*100) )"
   ]
  }
 ],
 "metadata": {
  "kernelspec": {
   "display_name": "Python 3",
   "language": "python",
   "name": "python3"
  },
  "language_info": {
   "codemirror_mode": {
    "name": "ipython",
    "version": 3
   },
   "file_extension": ".py",
   "mimetype": "text/x-python",
   "name": "python",
   "nbconvert_exporter": "python",
   "pygments_lexer": "ipython3",
   "version": "3.6.5"
  }
 },
 "nbformat": 4,
 "nbformat_minor": 2
}
