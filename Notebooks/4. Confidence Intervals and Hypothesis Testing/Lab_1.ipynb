{
 "cells": [
  {
   "cell_type": "markdown",
   "metadata": {},
   "source": [
    "# Lab 1\n",
    "\n",
    "Create a Python program that creates 20 batches of 30 samples each where the data is drawn from a Normal distribution with a mean of 19, and a standard deviation of 1.\n",
    "\n",
    "* For each of the 20 batches, what is the mean?\n",
    "* What is the standard deviation among the means of the 20 batches?"
   ]
  },
  {
   "cell_type": "code",
   "execution_count": 6,
   "metadata": {},
   "outputs": [],
   "source": [
    "import matplotlib.pyplot as plt\n",
    "import numpy as np\n",
    "from scipy.stats import norm\n",
    "\n",
    "sample_size = 30\n",
    "num_exp = 10000\n",
    "\n",
    "x = np.random.normal(loc=0.0, scale=1.0, size=(num_exp,sample_size))\n",
    "x_bar = np.mean(x, axis=1)\n",
    "x_std = np.std(x, ddof=1, axis=1)"
   ]
  },
  {
   "cell_type": "code",
   "execution_count": 5,
   "metadata": {},
   "outputs": [
    {
     "data": {
      "text/plain": [
       "(array([[ 1.83498305, -1.2208449 ,  1.88962505,  0.07356796,  0.60355032,\n",
       "          0.95101342, -0.88803561,  0.09702786,  2.75395955,  0.00654295,\n",
       "          0.47333616, -0.06011876,  1.29764706,  0.32970766,  0.70463432,\n",
       "          1.50317875,  0.28701145, -1.29253085, -0.45997985,  0.85439367,\n",
       "          1.36294694, -0.03699945,  0.1058666 , -0.30226983,  0.00699329,\n",
       "         -1.09380397,  0.72842172, -1.03167043,  0.69538261,  1.8553494 ]]),\n",
       " array([ 0.40096287]),\n",
       " array([ 1.00706777]))"
      ]
     },
     "execution_count": 5,
     "metadata": {},
     "output_type": "execute_result"
    }
   ],
   "source": [
    "x, x_bar, x_std"
   ]
  },
  {
   "cell_type": "code",
   "execution_count": 7,
   "metadata": {},
   "outputs": [
    {
     "name": "stdout",
     "output_type": "stream",
     "text": [
      "(10000, 30)\n",
      "(10000,)\n",
      "(10000,)\n"
     ]
    }
   ],
   "source": [
    "print( np.shape(x) )\n",
    "print( np.shape(x_bar) )\n",
    "print( np.shape(x_std) )"
   ]
  },
  {
   "cell_type": "code",
   "execution_count": 8,
   "metadata": {},
   "outputs": [
    {
     "data": {
      "text/plain": [
       "0.18176706642289753"
      ]
     },
     "execution_count": 8,
     "metadata": {},
     "output_type": "execute_result"
    }
   ],
   "source": [
    "np.std(x_bar)"
   ]
  },
  {
   "cell_type": "code",
   "execution_count": 9,
   "metadata": {},
   "outputs": [
    {
     "data": {
      "text/plain": [
       "0.99155325383262094"
      ]
     },
     "execution_count": 9,
     "metadata": {},
     "output_type": "execute_result"
    }
   ],
   "source": [
    "np.mean(x_std)"
   ]
  },
  {
   "cell_type": "code",
   "execution_count": 10,
   "metadata": {},
   "outputs": [
    {
     "data": {
      "image/png": "[encoded data removed]",
      "text/plain": [
       "<matplotlib.figure.Figure at 0x111c53588>"
      ]
     },
     "metadata": {},
     "output_type": "display_data"
    }
   ],
   "source": [
    "plt.hist(x_bar, bins=100)\n",
    "plt.grid()\n",
    "plt.show()"
   ]
  },
  {
   "cell_type": "code",
   "execution_count": null,
   "metadata": {},
   "outputs": [],
   "source": []
  }
 ],
 "metadata": {
  "kernelspec": {
   "display_name": "Python 3",
   "language": "python",
   "name": "python3"
  },
  "language_info": {
   "codemirror_mode": {
    "name": "ipython",
    "version": 3
   },
   "file_extension": ".py",
   "mimetype": "text/x-python",
   "name": "python",
   "nbconvert_exporter": "python",
   "pygments_lexer": "ipython3",
   "version": "3.6.5"
  }
 },
 "nbformat": 4,
 "nbformat_minor": 2
}
