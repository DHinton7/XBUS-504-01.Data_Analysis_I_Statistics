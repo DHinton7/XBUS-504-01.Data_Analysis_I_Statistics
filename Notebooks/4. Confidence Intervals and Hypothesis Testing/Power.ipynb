{
 "cells": [
  {
   "cell_type": "markdown",
   "metadata": {},
   "source": [
    "# Power\n",
    "\n",
    "Power relates to the ability to detect the presence of a true effect and is an important component of experimental design. We will consider a general-purpose simulation approach to estimating the power of an experimental design. We will also investigate how we can visualize such data using line plots and two-dimensional image plots.\n",
    "\n",
    "## Calculating power given effect size and sample size\n",
    "\n",
    "We will begin by considering a scenario in which we have an effect size and sample size in mind and we would like to know the associated power.\n",
    "\n",
    "The key to determining power using a simulation approach is to perform a large number of simulated experiments, each time calculating our test statistic (independent samples t-test, in this case) and accumulating the number of times we reject the null hypothesis. The power is simply the proportion of times that we are able to reject the null hypothesis (remembering that we control the population means and we know that there is a true difference)."
   ]
  },
  {
   "cell_type": "code",
   "execution_count": 10,
   "metadata": {},
   "outputs": [
    {
     "name": "stdout",
     "output_type": "stream",
     "text": [
      "Power:  0.84\n"
     ]
    }
   ],
   "source": [
    "import numpy as np\n",
    "\n",
    "import scipy.stats\n",
    "\n",
    "n_per_group = 25\n",
    "\n",
    "# effect size = 0.8\n",
    "group_means = [0.0, .8]\n",
    "group_sigmas = [1.0, 1.0]\n",
    "\n",
    "n_groups = len(group_means)\n",
    "\n",
    "# number of simulations\n",
    "n_sims = 100\n",
    "\n",
    "# store the p value for each simulation\n",
    "sim_p = np.empty(n_sims)\n",
    "sim_p.fill(np.nan)\n",
    "\n",
    "for i_sim in range(n_sims):\n",
    "\n",
    "    data = np.empty([n_per_group, n_groups])\n",
    "    data.fill(np.nan)\n",
    "\n",
    "    # simulate the data for this 'experiment'\n",
    "    for i_group in range(n_groups):\n",
    "\n",
    "        data[:, i_group] = np.random.normal(\n",
    "            loc=group_means[i_group],\n",
    "            scale=group_sigmas[i_group],\n",
    "            size=n_per_group\n",
    "        )\n",
    "\n",
    "    result = scipy.stats.ttest_ind(data[:, 0], data[:, 1])\n",
    "\n",
    "    sim_p[i_sim] = result[1]\n",
    "\n",
    "# number of simulations where the null was rejected\n",
    "n_rej = np.sum(sim_p < 0.05)\n",
    "\n",
    "prop_rej = n_rej / float(n_sims)\n",
    "\n",
    "print (\"Power: \", prop_rej)"
   ]
  },
  {
   "cell_type": "markdown",
   "metadata": {},
   "source": [
    "Our power to detect a large effect size with 30 participants per group is about 86%. That is, if a large effect size is truly present then we would expect to be able to reject the null hypothesis (at an alpha of 0.05) about 86% of the time."
   ]
  },
  {
   "cell_type": "markdown",
   "metadata": {},
   "source": [
    "## Required sample size to achieve a given power for a given effect size\n",
    "\n",
    "Oftentimes you want to know how many samples you need to achieve a desired level of power (80% is typical). Again, suppose you have a good guess for the effect size that you expect to see. We then simply increase the sample size until we get the desired level of power."
   ]
  },
  {
   "cell_type": "code",
   "execution_count": 2,
   "metadata": {},
   "outputs": [
    {
     "ename": "NameError",
     "evalue": "name 'calculate_power' is not defined",
     "output_type": "error",
     "traceback": [
      "\u001b[0;31m---------------------------------------------------------------------------\u001b[0m",
      "\u001b[0;31mNameError\u001b[0m                                 Traceback (most recent call last)",
      "\u001b[0;32m<ipython-input-2-0335c09cf89c>\u001b[0m in \u001b[0;36m<module>\u001b[0;34m()\u001b[0m\n\u001b[1;32m     25\u001b[0m \u001b[0;34m\u001b[0m\u001b[0m\n\u001b[1;32m     26\u001b[0m     \u001b[0;31m# FIXME:\u001b[0m\u001b[0;34m\u001b[0m\u001b[0;34m\u001b[0m\u001b[0m\n\u001b[0;32m---> 27\u001b[0;31m     \u001b[0mcurrent_power\u001b[0m \u001b[0;34m=\u001b[0m \u001b[0mcalculate_power\u001b[0m\u001b[0;34m(\u001b[0m\u001b[0;34m)\u001b[0m\u001b[0;34m\u001b[0m\u001b[0m\n\u001b[0m\u001b[1;32m     28\u001b[0m \u001b[0;34m\u001b[0m\u001b[0m\n\u001b[1;32m     29\u001b[0m     print( \"With {n:d} samples per group, power = {p:.3f}\".format(\n",
      "\u001b[0;31mNameError\u001b[0m: name 'calculate_power' is not defined"
     ]
    }
   ],
   "source": [
    "import numpy as np\n",
    "\n",
    "import scipy.stats\n",
    "\n",
    "# start at 20 participants\n",
    "n_per_group = 20\n",
    "\n",
    "# effect size = 0.8\n",
    "group_means = [0.0, 0.8]\n",
    "group_sigmas = [1.0, 1.0]\n",
    "\n",
    "n_groups = len(group_means)\n",
    "\n",
    "# number of simulations\n",
    "n_sims = 10000\n",
    "\n",
    "# power level that we would like to reach\n",
    "desired_power = 0.8\n",
    "\n",
    "# initialise the power for the current sample size to a small value\n",
    "current_power = 0.0\n",
    "\n",
    "# keep iterating until desired power is obtained\n",
    "while current_power < desired_power:\n",
    "\n",
    "    # FIXME:\n",
    "    current_power = calculate_power()\n",
    "    \n",
    "    print( \"With {n:d} samples per group, power = {p:.3f}\".format(\n",
    "        n=n_per_group,\n",
    "        p=current_power\n",
    "    ))\n",
    "\n",
    "    # increase the number of samples by one for the next iteration of the loop\n",
    "    n_per_group += 1"
   ]
  },
  {
   "cell_type": "markdown",
   "metadata": {},
   "source": [
    "We can see that we would reach the desired power with somewhere between 25 and 27 participants per group."
   ]
  },
  {
   "cell_type": "markdown",
   "metadata": {},
   "source": [
    "## Visualizing the sample size/power relationship\n",
    "\n",
    "Sometimes we do not have a single level of power in mind at the moment but would like to see the relationship between sample size and power so that we can see the costs and benefits of a particular sample size.\n",
    "\n",
    "First, perform the simulations across a fixed set of sample sizes.\n",
    "Then, plot the power as a function of the sample size"
   ]
  },
  {
   "cell_type": "code",
   "execution_count": 6,
   "metadata": {},
   "outputs": [],
   "source": []
  },
  {
   "cell_type": "code",
   "execution_count": null,
   "metadata": {},
   "outputs": [],
   "source": []
  },
  {
   "cell_type": "markdown",
   "metadata": {},
   "source": [
    "## Visualizing power across varying sample and effect sizes\n",
    "\n",
    "Sometimes we do not have a single effect size in mind but would like to see the relationship between effect size and power.\n",
    "\n",
    "First, perform the simulations across a fixed set of effect sizes.\n",
    "Then, plot the power as a function of the effect size"
   ]
  },
  {
   "cell_type": "code",
   "execution_count": 8,
   "metadata": {},
   "outputs": [],
   "source": []
  },
  {
   "cell_type": "code",
   "execution_count": null,
   "metadata": {},
   "outputs": [],
   "source": []
  }
 ],
 "metadata": {
  "kernelspec": {
   "display_name": "Python 3",
   "language": "python",
   "name": "python3"
  },
  "language_info": {
   "codemirror_mode": {
    "name": "ipython",
    "version": 3
   },
   "file_extension": ".py",
   "mimetype": "text/x-python",
   "name": "python",
   "nbconvert_exporter": "python",
   "pygments_lexer": "ipython3",
   "version": "3.6.5"
  }
 },
 "nbformat": 4,
 "nbformat_minor": 2
}
